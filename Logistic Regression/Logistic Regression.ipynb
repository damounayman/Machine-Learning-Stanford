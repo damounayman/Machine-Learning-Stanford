{
 "cells": [
  {
   "cell_type": "code",
   "execution_count": 1,
   "metadata": {},
   "outputs": [],
   "source": [
    "import pandas as pd\n",
    "import numpy as np\n",
    "import matplotlib.pyplot as plt\n",
    "import seaborn as sns"
   ]
  },
  {
   "cell_type": "code",
   "execution_count": 3,
   "metadata": {},
   "outputs": [],
   "source": [
    "student = pd.read_csv('ex2/ex2data1.txt' , names= ['firstExam' , 'secondExam' , 'admissionStatus'])"
   ]
  },
  {
   "cell_type": "code",
   "execution_count": 4,
   "metadata": {},
   "outputs": [
    {
     "data": {
      "text/html": [
       "<div>\n",
       "<style scoped>\n",
       "    .dataframe tbody tr th:only-of-type {\n",
       "        vertical-align: middle;\n",
       "    }\n",
       "\n",
       "    .dataframe tbody tr th {\n",
       "        vertical-align: top;\n",
       "    }\n",
       "\n",
       "    .dataframe thead th {\n",
       "        text-align: right;\n",
       "    }\n",
       "</style>\n",
       "<table border=\"1\" class=\"dataframe\">\n",
       "  <thead>\n",
       "    <tr style=\"text-align: right;\">\n",
       "      <th></th>\n",
       "      <th>firstExam</th>\n",
       "      <th>secondExam</th>\n",
       "      <th>admissionStatus</th>\n",
       "    </tr>\n",
       "  </thead>\n",
       "  <tbody>\n",
       "    <tr>\n",
       "      <th>0</th>\n",
       "      <td>34.623660</td>\n",
       "      <td>78.024693</td>\n",
       "      <td>0</td>\n",
       "    </tr>\n",
       "    <tr>\n",
       "      <th>1</th>\n",
       "      <td>30.286711</td>\n",
       "      <td>43.894998</td>\n",
       "      <td>0</td>\n",
       "    </tr>\n",
       "    <tr>\n",
       "      <th>2</th>\n",
       "      <td>35.847409</td>\n",
       "      <td>72.902198</td>\n",
       "      <td>0</td>\n",
       "    </tr>\n",
       "    <tr>\n",
       "      <th>3</th>\n",
       "      <td>60.182599</td>\n",
       "      <td>86.308552</td>\n",
       "      <td>1</td>\n",
       "    </tr>\n",
       "    <tr>\n",
       "      <th>4</th>\n",
       "      <td>79.032736</td>\n",
       "      <td>75.344376</td>\n",
       "      <td>1</td>\n",
       "    </tr>\n",
       "  </tbody>\n",
       "</table>\n",
       "</div>"
      ],
      "text/plain": [
       "   firstExam  secondExam  admissionStatus\n",
       "0  34.623660   78.024693                0\n",
       "1  30.286711   43.894998                0\n",
       "2  35.847409   72.902198                0\n",
       "3  60.182599   86.308552                1\n",
       "4  79.032736   75.344376                1"
      ]
     },
     "execution_count": 4,
     "metadata": {},
     "output_type": "execute_result"
    }
   ],
   "source": [
    "student.head()"
   ]
  },
  {
   "cell_type": "code",
   "execution_count": 5,
   "metadata": {},
   "outputs": [
    {
     "data": {
      "image/png": "[encoded data removed]",
      "text/plain": [
       "<Figure size 720x504 with 1 Axes>"
      ]
     },
     "metadata": {
      "needs_background": "light"
     },
     "output_type": "display_data"
    }
   ],
   "source": [
    "plt.figure(figsize=(10 , 7 ))\n",
    "sns.scatterplot(x = 'firstExam' , y = 'secondExam' , data = student  , hue = 'admissionStatus', legend= 'full' )\n",
    "plt.xlabel('First Exam Point')\n",
    "plt.ylabel('Second Exam Point')\n",
    "plt.legend(title='Admission Status', loc='upper right', labels=['Not Accepted', 'Accepted'])\n",
    "plt.show()"
   ]
  },
  {
   "cell_type": "code",
   "execution_count": 6,
   "metadata": {},
   "outputs": [],
   "source": [
    "X = np.array(student[['firstExam' , 'secondExam']])\n",
    "y = np.array(student['admissionStatus'])\n",
    "counts_of_samples = y.size\n",
    "m,n = X.shape"
   ]
  },
  {
   "cell_type": "code",
   "execution_count": 7,
   "metadata": {},
   "outputs": [
    {
     "name": "stdout",
     "output_type": "stream",
     "text": [
      "Number of the dataset samples is 100\n",
      "The X matrix Shape is 100 x 2\n",
      "Number of features of this dataset is 2\n"
     ]
    }
   ],
   "source": [
    "print('Number of the dataset samples is {}'.format(counts_of_samples))\n",
    "print('The X matrix Shape is {} x {}'.format(m , n))\n",
    "print('Number of features of this dataset is {}'.format(n))"
   ]
  },
  {
   "cell_type": "code",
   "execution_count": 8,
   "metadata": {},
   "outputs": [],
   "source": [
    "def sigmoid(x):\n",
    "    \n",
    "    x = np.array(x)\n",
    "\n",
    "    g = 1 / (1 + np.exp(-x))\n",
    "    \n",
    "    return g"
   ]
  },
  {
   "cell_type": "code",
   "execution_count": 9,
   "metadata": {},
   "outputs": [
    {
     "name": "stdout",
     "output_type": "stream",
     "text": [
      "The Value of the sigmoid(0) is 0.5\n"
     ]
    }
   ],
   "source": [
    "print('The Value of the sigmoid(0) is {}'.format(sigmoid(0)))"
   ]
  },
  {
   "cell_type": "code",
   "execution_count": 10,
   "metadata": {},
   "outputs": [],
   "source": [
    "X = np.concatenate([np.ones((len(X), 1)), X], axis= 1)"
   ]
  },
  {
   "cell_type": "code",
   "execution_count": 11,
   "metadata": {},
   "outputs": [],
   "source": [
    "def cost_function(theta , X , y):\n",
    "    \n",
    "    m = y.size\n",
    "    \n",
    "    J = 0\n",
    "    \n",
    "    h = sigmoid(np.dot(X , theta.T))\n",
    "    \n",
    "    J = (-1 / m) * np.sum(np.dot(y , np.log(h)) +  np.dot( 1 - y , np.log(1 - h) ))\n",
    "    \n",
    "    return J"
   ]
  },
  {
   "cell_type": "code",
   "execution_count": 12,
   "metadata": {},
   "outputs": [
    {
     "name": "stdout",
     "output_type": "stream",
     "text": [
      " The value of the cost function with these theta is 0.9454444389703006\n"
     ]
    }
   ],
   "source": [
    "theta = np.array([-22, 0.22, 0.22])\n",
    "J = cost_function( theta , X , y )\n",
    "print(' The value of the cost function with these theta is {}'.format(J))"
   ]
  },
  {
   "cell_type": "code",
   "execution_count": 13,
   "metadata": {},
   "outputs": [],
   "source": [
    "def gradian_decent( theta , X , y ) : \n",
    "    \n",
    "    m = y.size\n",
    "    \n",
    "    new_theta = np.zeros(theta.shape)\n",
    "    \n",
    "    h = sigmoid(np.dot(X , theta.T))\n",
    "    \n",
    "    new_theta = 1 / m * np.dot((h - y) , X) \n",
    "    \n",
    "    return new_theta"
   ]
  },
  {
   "cell_type": "code",
   "execution_count": 14,
   "metadata": {},
   "outputs": [],
   "source": [
    "from scipy import optimize"
   ]
  },
  {
   "cell_type": "code",
   "execution_count": 15,
   "metadata": {},
   "outputs": [],
   "source": [
    "options= {\"maxiter\": 500, \"disp\": True}"
   ]
  },
  {
   "cell_type": "code",
   "execution_count": 16,
   "metadata": {},
   "outputs": [],
   "source": [
    "initial_theta = np.zeros(n+1)"
   ]
  },
  {
   "cell_type": "code",
   "execution_count": 17,
   "metadata": {},
   "outputs": [],
   "source": [
    "result = optimize.minimize(cost_function , initial_theta , (X ,y) , method = 'TNC' , jac = gradian_decent , options= options)"
   ]
  },
  {
   "cell_type": "code",
   "execution_count": 18,
   "metadata": {},
   "outputs": [
    {
     "name": "stdout",
     "output_type": "stream",
     "text": [
      "The best cost function value is 0.2035\n",
      "The Optimized thetas is [-25.16131863   0.20623159   0.20147149]\n"
     ]
    }
   ],
   "source": [
    "print('The best cost function value is {:.4}'.format(result.fun))\n",
    "print('The Optimized thetas is {}'.format(result.x))\n",
    "best_theta = result.x"
   ]
  },
  {
   "cell_type": "code",
   "execution_count": 19,
   "metadata": {},
   "outputs": [],
   "source": [
    "plot_x = np.array([np.min(X[:, 1]) - 2, np.max(X[:, 1]) + 2])"
   ]
  },
  {
   "cell_type": "code",
   "execution_count": 20,
   "metadata": {},
   "outputs": [],
   "source": [
    "plot_y = (-1 / best_theta[2] ) * (best_theta[1] * plot_x + best_theta[0])"
   ]
  },
  {
   "cell_type": "code",
   "execution_count": 21,
   "metadata": {},
   "outputs": [
    {
     "data": {
      "image/png": "[encoded data removed]",
      "text/plain": [
       "<Figure size 720x504 with 1 Axes>"
      ]
     },
     "metadata": {
      "needs_background": "light"
     },
     "output_type": "display_data"
    }
   ],
   "source": [
    "plt.figure(figsize=(10 , 7 ))\n",
    "sns.scatterplot(x = 'firstExam' , y = 'secondExam' , data = student  , hue = 'admissionStatus', legend= 'full' )\n",
    "sns.lineplot( x = plot_x , y = plot_y , color = 'red')\n",
    "plt.xlabel('First Exam Point')\n",
    "plt.ylabel('Second Exam Point')\n",
    "plt.legend(title='Admission Status', loc='upper right', labels=['Decision Boundry', 'Not Accepted' , 'Accpeted'])\n",
    "plt.show()"
   ]
  },
  {
   "cell_type": "code",
   "execution_count": 22,
   "metadata": {},
   "outputs": [],
   "source": [
    "def predict( theta , X ):\n",
    "    \n",
    "    number_of_samples= X.shape[0]\n",
    "    predicted= np.zeros(number_of_samples)\n",
    "    \n",
    "    predicted = np.round(sigmoid(np.dot(X , best_theta.T))) # threshold of the np.round is 0.5\n",
    "    \n",
    "    return predicted"
   ]
  },
  {
   "cell_type": "code",
   "execution_count": 23,
   "metadata": {},
   "outputs": [],
   "source": [
    "predicted = predict( best_theta , X )"
   ]
  },
  {
   "cell_type": "code",
   "execution_count": 24,
   "metadata": {},
   "outputs": [],
   "source": [
    "student['predictedAdmissionStatus'] = predicted"
   ]
  },
  {
   "cell_type": "code",
   "execution_count": 25,
   "metadata": {},
   "outputs": [],
   "source": [
    "student['predictedAdmissionStatus'] = student['predictedAdmissionStatus'].astype(int)"
   ]
  },
  {
   "cell_type": "code",
   "execution_count": 26,
   "metadata": {},
   "outputs": [
    {
     "data": {
      "text/html": [
       "<div>\n",
       "<style scoped>\n",
       "    .dataframe tbody tr th:only-of-type {\n",
       "        vertical-align: middle;\n",
       "    }\n",
       "\n",
       "    .dataframe tbody tr th {\n",
       "        vertical-align: top;\n",
       "    }\n",
       "\n",
       "    .dataframe thead th {\n",
       "        text-align: right;\n",
       "    }\n",
       "</style>\n",
       "<table border=\"1\" class=\"dataframe\">\n",
       "  <thead>\n",
       "    <tr style=\"text-align: right;\">\n",
       "      <th></th>\n",
       "      <th>firstExam</th>\n",
       "      <th>secondExam</th>\n",
       "      <th>admissionStatus</th>\n",
       "      <th>predictedAdmissionStatus</th>\n",
       "    </tr>\n",
       "  </thead>\n",
       "  <tbody>\n",
       "    <tr>\n",
       "      <th>0</th>\n",
       "      <td>34.623660</td>\n",
       "      <td>78.024693</td>\n",
       "      <td>0</td>\n",
       "      <td>0</td>\n",
       "    </tr>\n",
       "    <tr>\n",
       "      <th>1</th>\n",
       "      <td>30.286711</td>\n",
       "      <td>43.894998</td>\n",
       "      <td>0</td>\n",
       "      <td>0</td>\n",
       "    </tr>\n",
       "    <tr>\n",
       "      <th>2</th>\n",
       "      <td>35.847409</td>\n",
       "      <td>72.902198</td>\n",
       "      <td>0</td>\n",
       "      <td>0</td>\n",
       "    </tr>\n",
       "    <tr>\n",
       "      <th>3</th>\n",
       "      <td>60.182599</td>\n",
       "      <td>86.308552</td>\n",
       "      <td>1</td>\n",
       "      <td>1</td>\n",
       "    </tr>\n",
       "    <tr>\n",
       "      <th>4</th>\n",
       "      <td>79.032736</td>\n",
       "      <td>75.344376</td>\n",
       "      <td>1</td>\n",
       "      <td>1</td>\n",
       "    </tr>\n",
       "  </tbody>\n",
       "</table>\n",
       "</div>"
      ],
      "text/plain": [
       "   firstExam  secondExam  admissionStatus  predictedAdmissionStatus\n",
       "0  34.623660   78.024693                0                         0\n",
       "1  30.286711   43.894998                0                         0\n",
       "2  35.847409   72.902198                0                         0\n",
       "3  60.182599   86.308552                1                         1\n",
       "4  79.032736   75.344376                1                         1"
      ]
     },
     "execution_count": 26,
     "metadata": {},
     "output_type": "execute_result"
    }
   ],
   "source": [
    "student.head()"
   ]
  },
  {
   "cell_type": "code",
   "execution_count": 27,
   "metadata": {},
   "outputs": [],
   "source": [
    "def accuray(df , predicted_col_name , real_anwser_col_name):\n",
    "    \n",
    "    counts_of_diffrence = len(df[df[real_anwser_col_name] != df[predicted_col_name]])\n",
    "    \n",
    "    accuracy = 100 - counts_of_diffrence * 100 / len(df) \n",
    "\n",
    "    print('The model accuracy is {} %'.format(accuracy))"
   ]
  },
  {
   "cell_type": "code",
   "execution_count": 28,
   "metadata": {},
   "outputs": [
    {
     "name": "stdout",
     "output_type": "stream",
     "text": [
      "The model accuracy is 89.0 %\n"
     ]
    }
   ],
   "source": [
    "accuray(student , 'predictedAdmissionStatus' , 'admissionStatus')"
   ]
  }
 ],
 "metadata": {
  "kernelspec": {
   "display_name": "Python 3",
   "language": "python",
   "name": "python3"
  },
  "language_info": {
   "codemirror_mode": {
    "name": "ipython",
    "version": 3
   },
   "file_extension": ".py",
   "mimetype": "text/x-python",
   "name": "python",
   "nbconvert_exporter": "python",
   "pygments_lexer": "ipython3",
   "version": "3.8.5"
  }
 },
 "nbformat": 4,
 "nbformat_minor": 2
}
